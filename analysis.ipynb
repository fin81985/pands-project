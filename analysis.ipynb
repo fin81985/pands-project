{
 "cells": [
  {
   "cell_type": "markdown",
   "metadata": {},
   "source": [
    "# task 1 import"
   ]
  },
  {
   "cell_type": "code",
   "execution_count": null,
   "metadata": {},
   "outputs": [],
   "source": [
    "# Data manipulation\n",
    "import numpy as np # For numerical operations\n",
    "import pandas as pd # For data manipulation and analysis\n",
    "\n",
    "# Machine Learning Library\n",
    "import sklearn # For machine learning algorithms\n",
    "from sklearn import datasets  # For loading datasets\n",
    "\n",
    "# Plotting\n",
    "import matplotlib.pyplot as plt # For basic plotting\n",
    "import seaborn as sns  # Visualization library based on matplotlib\n",
    "from sklearn.linear_model import LinearRegression \n",
    "from sklearn.metrics import r2_score"
   ]
  },
  {
   "cell_type": "markdown",
   "metadata": {},
   "source": [
    "### task 2 loading data set"
   ]
  },
  {
   "cell_type": "code",
   "execution_count": null,
   "metadata": {},
   "outputs": [],
   "source": [
    "# Load the iris dataset.\n",
    "df = pd.read_csv(\"iris_dataset/iris.data\")\n",
    "\n",
    "# Have a look.\n",
    "df"
   ]
  },
  {
   "cell_type": "markdown",
   "metadata": {},
   "source": [
    "### task 3 looking at the data"
   ]
  },
  {
   "cell_type": "code",
   "execution_count": null,
   "metadata": {},
   "outputs": [],
   "source": [
    "# Describe the data set.\n",
    "df.describe()\n",
    "\n",
    "# look at the data.\n",
    "df\n",
    "\n",
    "# Look at the keys\n",
    "df.keys()\n",
    "\n",
    "# Rename columns to better names\n",
    "df.columns = ['sepal_length', 'sepal_width', 'petal_length', 'petal_width', 'species']\n",
    "\n",
    "# The species of iris\n",
    "df['species']\n",
    "\n",
    "# Shape\n",
    "df['species'].shape\n",
    "\n",
    "# The sepal length\n",
    "df['sepal_length']\n",
    "\n",
    "# The petal lenght\n",
    "df['petal_length']\n",
    "\n",
    "# the petal width\n",
    "df['petal_width']"
   ]
  },
  {
   "cell_type": "markdown",
   "metadata": {},
   "source": [
    "### task 4 summary stasts"
   ]
  },
  {
   "cell_type": "code",
   "execution_count": null,
   "metadata": {},
   "outputs": [],
   "source": [
    "# Statistics\n",
    "stats = df.describe().T[['mean', 'min', 'max', 'std']]\n",
    "stats['median'] = df.median(numeric_only=True) # select only the numeric columns\n",
    "\n",
    "# Print results\n",
    "print(stats)"
   ]
  },
  {
   "cell_type": "markdown",
   "metadata": {},
   "source": [
    "### task 5 visualization historames"
   ]
  },
  {
   "cell_type": "code",
   "execution_count": null,
   "metadata": {},
   "outputs": [],
   "source": [
    "#  summary statistics\n",
    "stats = {\n",
    "    \"sepal_length\": np.random.normal(5.843333, 0.828066, 150),\n",
    "    \"sepal_width\": np.random.normal(3.054000, 0.433594, 150),\n",
    "    \"petal_length\": np.random.normal(3.758667, 1.764420, 150),\n",
    "    \"petal_width\": np.random.normal(1.198667, 0.763161, 150)\n",
    "}\n",
    "\n",
    "# Plot histograms\n",
    "fig, axes = plt.subplots(2, 2, figsize=(10, 8))\n",
    "axes = axes.ravel()\n",
    "\n",
    "# create histogram for each feature\n",
    "for idx, (feature, values) in enumerate(stats.items()):\n",
    "    axes[idx].hist(values, bins=20, edgecolor='black', alpha=0.7)\n",
    "    axes[idx].set_title(feature)\n",
    "    axes[idx].set_xlabel(\"Value (mm)\")\n",
    "    axes[idx].set_ylabel(\"Frequency\")\n",
    "\n",
    "plt.tight_layout()\n",
    "plt.show()"
   ]
  },
  {
   "cell_type": "markdown",
   "metadata": {},
   "source": [
    "### task 6 relationship between features"
   ]
  },
  {
   "cell_type": "code",
   "execution_count": null,
   "metadata": {},
   "outputs": [],
   "source": [
    "# Generate synthetic class labels with names\n",
    "class_names = [\"Setosa\", \"Versicolor\", \"Virginica\"]\n",
    "classes = np.random.choice(class_names, size=150)\n",
    "colors = {'Setosa': 'r', 'Versicolor': 'g', 'Virginica': 'b'}\n",
    "\n",
    "# Scatter plot of sepal_length vs petal_length\n",
    "plt.figure(figsize=(8, 6))\n",
    "for class_label in np.unique(classes):\n",
    "    plt.scatter(\n",
    "        stats[\"sepal_length\"][classes == class_label],\n",
    "        stats[\"petal_length\"][classes == class_label],\n",
    "        color=colors[class_label],\n",
    "        label=f'Class {class_label}',\n",
    "        alpha=0.7\n",
    "    )\n",
    "\n",
    "# Add labels and legend\n",
    "plt.xlabel(\"Sepal Length (mm)\")\n",
    "plt.ylabel(\"Petal Length (mm)\")\n",
    "plt.title(\"Scatter Plot of Sepal Length vs Petal Length\")\n",
    "plt.legend()\n",
    "plt.show()"
   ]
  },
  {
   "cell_type": "markdown",
   "metadata": {},
   "source": [
    "### task 7 linear regression"
   ]
  },
  {
   "cell_type": "code",
   "execution_count": null,
   "metadata": {},
   "outputs": [],
   "source": [
    "# Scatter plot of sepal_length vs petal_length\n",
    "plt.figure(figsize=(8, 6))\n",
    "for class_label in np.unique(classes):\n",
    "    plt.scatter(\n",
    "        stats[\"sepal_length\"][classes == class_label],\n",
    "        stats[\"petal_length\"][classes == class_label],\n",
    "        color=colors[class_label],\n",
    "        label=f'Class {class_label}',\n",
    "        alpha=0.7\n",
    "    )\n",
    "# Fit a regression line using numpy.polyfit\n",
    "x = stats[\"sepal_length\"]\n",
    "y = stats[\"petal_length\"]\n",
    "\n",
    "# Fit a regression line\n",
    "coefficients = np.polyfit(x, y, 1)\n",
    "\n",
    "# Create a polynomial object\n",
    "polynomial = np.poly1d(coefficients)\n",
    "x_line = np.linspace(min(x), max(x), 100)\n",
    "y_line = polynomial(x_line)\n",
    "\n",
    "# Plot the regression line\n",
    "plt.plot(x_line, y_line, color='k', linestyle='-', linewidth=3, label='Regression Line')\n",
    "\n",
    "# Add labels and title\n",
    "plt.xlabel(\"Sepal Length (mm) \")\n",
    "plt.ylabel(\"Petal Length (mm)\")\n",
    "plt.title(\"Scatter Plot of Sepal Length vs Petal Length\")\n",
    "plt.legend()\n",
    "plt.show()"
   ]
  },
  {
   "cell_type": "markdown",
   "metadata": {},
   "source": [
    "### task 8 box plot"
   ]
  },
  {
   "cell_type": "code",
   "execution_count": null,
   "metadata": {},
   "outputs": [],
   "source": [
    "# Create box-plots for petal lengths of each class\n",
    "plt.figure(figsize=(8, 6)) \n",
    "\n",
    "# Extract petal lengths for each class\n",
    "petal_lengths_by_class = [stats[\"petal_length\"][classes == class_label] for class_label in np.unique(classes)]\n",
    "\n",
    "# Create box-plots\n",
    "plt.boxplot(petal_lengths_by_class, tick_labels=[f'Class {c}' for c in np.unique(classes)])\n",
    "\n",
    "\n",
    "# Add labels\n",
    "plt.xlabel(\"Class\")\n",
    "plt.ylabel(\"Petal Length\")\n",
    "plt.title(\"Box Plot of Petal Lengths for Each Class\")\n",
    "plt.show()"
   ]
  },
  {
   "cell_type": "markdown",
   "metadata": {},
   "source": [
    "### task 9 heatmap using seaborn"
   ]
  },
  {
   "cell_type": "code",
   "execution_count": null,
   "metadata": {},
   "outputs": [],
   "source": [
    "# Convert to DataFrame\n",
    "df = pd.DataFrame(stats)\n",
    "\n",
    "# Compute correlation matrix\n",
    "correlation_matrix = df.corr()\n",
    "\n",
    "# Plot heatmap using Seaborn\n",
    "plt.figure(figsize=(8, 6))\n",
    "sns.heatmap(correlation_matrix, annot=True, cmap=\"coolwarm\", fmt=\".2f\", linewidths=0.5)\n",
    "\n",
    "# Add title\n",
    "plt.title(\"Correlation Heatmap of Iris Features\", fontsize=14, fontweight='bold')\n",
    "\n",
    "# Show plot\n",
    "plt.show()"
   ]
  },
  {
   "cell_type": "markdown",
   "metadata": {},
   "source": [
    "### task 10 pair plot"
   ]
  },
  {
   "cell_type": "code",
   "execution_count": null,
   "metadata": {},
   "outputs": [],
   "source": [
    "# Create pair plot\n",
    "# Add species column separately to ensure proper assignment\n",
    "df[\"species\"] = np.random.choice([\"setosa\", \"versicolor\", \"virginica\"], 150)\n",
    "\n",
    "# Ensure 'species' column exists\n",
    "if \"species\" not in df.columns:\n",
    "    raise KeyError(\"Column 'species' is missing from DataFrame\")\n",
    "\n",
    "# Create pair plot\n",
    "sns.pairplot(df, hue=\"species\", diag_kind=\"kde\", markers=[\"o\", \"s\", \"D\"])\n",
    "plt.show()"
   ]
  }
 ],
 "metadata": {
  "language_info": {
   "name": "python"
  }
 },
 "nbformat": 4,
 "nbformat_minor": 5
}
